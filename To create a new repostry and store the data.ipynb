{
 "cells": [
  {
   "cell_type": "markdown",
   "metadata": {},
   "source": [
    "### Steps for New Respositary\n",
    "1. git init\n",
    "2. git config --global user.name \"AdityaPola(user_name)\"\n",
    "3. git config --global user.email \"paditya9908@gmail.com(user_email)\"\n",
    "4. git add .(all_files)or file_name\n",
    "5. git commit -m \"message(files added etc)\"\n",
    "6. git remote add remote_name & \"github_respositary_url\"\n",
    "7. git push remot_name & branch_name\n",
    "8. Goto -->github-->Refresh name and check files\n",
    "\n"
   ]
  },
  {
   "cell_type": "markdown",
   "metadata": {},
   "source": [
    "### Adding the files into Already exist Repositary\n",
    "1. git add .\n",
    "2. git commit -m \"message\"\n",
    "3. git remote    #It is used for displaying already exist remote name\n",
    "4. git push remote_name & branch_name"
   ]
  },
  {
   "cell_type": "markdown",
   "metadata": {},
   "source": [
    "### For getting Files from Resposiatry'=\n",
    "1. git pull remote_name branch_name"
   ]
  },
  {
   "cell_type": "code",
   "execution_count": null,
   "metadata": {},
   "outputs": [],
   "source": []
  }
 ],
 "metadata": {
  "kernelspec": {
   "display_name": "Python 3",
   "language": "python",
   "name": "python3"
  },
  "language_info": {
   "codemirror_mode": {
    "name": "ipython",
    "version": 3
   },
   "file_extension": ".py",
   "mimetype": "text/x-python",
   "name": "python",
   "nbconvert_exporter": "python",
   "pygments_lexer": "ipython3",
   "version": "3.7.4"
  }
 },
 "nbformat": 4,
 "nbformat_minor": 2
}
